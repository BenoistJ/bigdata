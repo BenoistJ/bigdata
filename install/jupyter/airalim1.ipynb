{
 "cells": [
  {
   "cell_type": "code",
   "execution_count": null,
   "metadata": {
    "collapsed": false
   },
   "outputs": [],
   "source": [
    "import sys, os, json, datetime, logging\n",
    "from datetime import datetime\n",
    "from pyspark import SparkContext, SparkConf\n",
    "from pyspark.sql import SQLContext, Row\n",
    "from pyspark.sql.functions import *\n",
    "from pyspark.sql.types import StructType, StructField, StringType, LongType, DoubleType, DateType, BooleanType\n",
    "from pyspark.sql.window import Window\n",
    "from cassandra import ConsistencyLevel\n",
    "from cassandra.cluster import Cluster\n",
    "from cassandra.query import SimpleStatement\n",
    "logger = logging.getLogger('main')\n",
    "logger.setLevel(logging.DEBUG)\n",
    "fh = logging.FileHandler('airalim1.log', 'w')\n",
    "fh.setLevel(logging.DEBUG)\n",
    "ch = logging.StreamHandler()\n",
    "ch.setLevel(logging.DEBUG)\n",
    "formatter = logging.Formatter('%(asctime)s - %(message)s')\n",
    "fh.setFormatter(formatter)\n",
    "ch.setFormatter(formatter)\n",
    "logger.addHandler(fh)\n",
    "logger.addHandler(ch)"
   ]
  },
  {
   "cell_type": "code",
   "execution_count": 2,
   "metadata": {
    "collapsed": false
   },
   "outputs": [
    {
     "name": "stderr",
     "output_type": "stream",
     "text": [
      "2017-01-03 18:26:20,104 - ---------------------------------------------------------------------------\n",
      "2017-01-03 18:26:20,105 - CREATE CASSANDRA CONTEXT\n"
     ]
    }
   ],
   "source": [
    "logger.info(\"---------------------------------------------------------------------------\")\n",
    "logger.info(\"CREATE CASSANDRA CONTEXT\")\n",
    "cluster = Cluster([\"192.168.1.100\"])\n",
    "session = cluster.connect(\"z_app_di3_cass_keyspace\")"
   ]
  },
  {
   "cell_type": "code",
   "execution_count": 3,
   "metadata": {
    "collapsed": false
   },
   "outputs": [],
   "source": [
    "def insert(consistency_level):\n",
    "    logger.info(\"Inserting to Cassandra with consistency_level=\" + str(consistency_level))\n",
    "    query = SimpleStatement(\"INSERT INTO bil_occup_totale_troncon (troncon, cable, paire, niv_occ, voie, lien, atm) VALUES (%s, %s, %s, %s, %s, %s, %s)\", consistency_level=consistency_level)\n",
    "    for i in range(1,100):\n",
    "        for num in range(0,batch_size):\n",
    "            x = str(num + (batch_size*i))\n",
    "            session.execute(query, (x, x, x, x, x, x, x))\n",
    "        logger.info(i*batch_size)"
   ]
  },
  {
   "cell_type": "code",
   "execution_count": 4,
   "metadata": {
    "collapsed": false
   },
   "outputs": [
    {
     "name": "stderr",
     "output_type": "stream",
     "text": [
      "2017-01-03 18:26:20,163 - Inserting to Cassandra with consistency_level=4\n",
      "2017-01-03 18:26:20,223 - 100\n",
      "2017-01-03 18:26:20,282 - 200\n",
      "2017-01-03 18:26:20,340 - 300\n",
      "2017-01-03 18:26:20,397 - 400\n",
      "2017-01-03 18:26:20,465 - 500\n",
      "2017-01-03 18:26:20,529 - 600\n",
      "2017-01-03 18:26:20,589 - 700\n",
      "2017-01-03 18:26:20,660 - 800\n",
      "2017-01-03 18:26:20,751 - 900\n",
      "2017-01-03 18:26:20,826 - 1000\n",
      "2017-01-03 18:26:20,905 - 1100\n",
      "2017-01-03 18:26:20,972 - 1200\n",
      "2017-01-03 18:26:21,072 - 1300\n",
      "2017-01-03 18:26:21,164 - 1400\n",
      "2017-01-03 18:26:21,234 - 1500\n",
      "2017-01-03 18:26:21,315 - 1600\n",
      "2017-01-03 18:26:21,394 - 1700\n",
      "2017-01-03 18:26:21,479 - 1800\n",
      "2017-01-03 18:26:21,574 - 1900\n",
      "2017-01-03 18:26:21,663 - 2000\n",
      "2017-01-03 18:26:21,749 - 2100\n",
      "2017-01-03 18:26:21,842 - 2200\n",
      "2017-01-03 18:26:21,924 - 2300\n",
      "2017-01-03 18:26:21,985 - 2400\n",
      "2017-01-03 18:26:22,062 - 2500\n",
      "2017-01-03 18:26:22,116 - 2600\n",
      "2017-01-03 18:26:22,168 - 2700\n",
      "2017-01-03 18:26:22,225 - 2800\n",
      "2017-01-03 18:26:22,297 - 2900\n",
      "2017-01-03 18:26:22,356 - 3000\n",
      "2017-01-03 18:26:22,414 - 3100\n",
      "2017-01-03 18:26:22,476 - 3200\n",
      "2017-01-03 18:26:22,531 - 3300\n",
      "2017-01-03 18:26:22,588 - 3400\n",
      "2017-01-03 18:26:22,689 - 3500\n",
      "2017-01-03 18:26:22,750 - 3600\n",
      "2017-01-03 18:26:22,805 - 3700\n",
      "2017-01-03 18:26:22,866 - 3800\n",
      "2017-01-03 18:26:22,927 - 3900\n",
      "2017-01-03 18:26:22,984 - 4000\n",
      "2017-01-03 18:26:23,042 - 4100\n",
      "2017-01-03 18:26:23,114 - 4200\n",
      "2017-01-03 18:26:23,170 - 4300\n",
      "2017-01-03 18:26:23,229 - 4400\n",
      "2017-01-03 18:26:23,284 - 4500\n",
      "2017-01-03 18:26:23,339 - 4600\n",
      "2017-01-03 18:26:23,398 - 4700\n",
      "2017-01-03 18:26:23,460 - 4800\n",
      "2017-01-03 18:26:23,529 - 4900\n",
      "2017-01-03 18:26:23,586 - 5000\n",
      "2017-01-03 18:26:23,641 - 5100\n",
      "2017-01-03 18:26:23,703 - 5200\n",
      "2017-01-03 18:26:23,757 - 5300\n",
      "2017-01-03 18:26:23,813 - 5400\n",
      "2017-01-03 18:26:23,870 - 5500\n",
      "2017-01-03 18:26:23,931 - 5600\n",
      "2017-01-03 18:26:23,986 - 5700\n",
      "2017-01-03 18:26:24,041 - 5800\n",
      "2017-01-03 18:26:24,101 - 5900\n",
      "2017-01-03 18:26:24,158 - 6000\n",
      "2017-01-03 18:26:24,217 - 6100\n",
      "2017-01-03 18:26:24,303 - 6200\n",
      "2017-01-03 18:26:24,359 - 6300\n",
      "2017-01-03 18:26:24,415 - 6400\n",
      "2017-01-03 18:26:24,471 - 6500\n",
      "2017-01-03 18:26:24,531 - 6600\n",
      "2017-01-03 18:26:24,589 - 6700\n",
      "2017-01-03 18:26:24,648 - 6800\n",
      "2017-01-03 18:26:24,728 - 6900\n",
      "2017-01-03 18:26:24,780 - 7000\n",
      "2017-01-03 18:26:24,861 - 7100\n",
      "2017-01-03 18:26:24,915 - 7200\n",
      "2017-01-03 18:26:24,971 - 7300\n",
      "2017-01-03 18:26:25,029 - 7400\n",
      "2017-01-03 18:26:25,085 - 7500\n",
      "2017-01-03 18:26:25,140 - 7600\n",
      "2017-01-03 18:26:25,198 - 7700\n",
      "2017-01-03 18:26:25,259 - 7800\n",
      "2017-01-03 18:26:25,319 - 7900\n",
      "2017-01-03 18:26:25,377 - 8000\n",
      "2017-01-03 18:26:25,438 - 8100\n",
      "2017-01-03 18:26:25,515 - 8200\n",
      "2017-01-03 18:26:25,573 - 8300\n",
      "2017-01-03 18:26:25,629 - 8400\n",
      "2017-01-03 18:26:25,687 - 8500\n",
      "2017-01-03 18:26:25,749 - 8600\n",
      "2017-01-03 18:26:25,821 - 8700\n",
      "2017-01-03 18:26:25,889 - 8800\n",
      "2017-01-03 18:26:25,948 - 8900\n",
      "2017-01-03 18:26:26,006 - 9000\n",
      "2017-01-03 18:26:26,070 - 9100\n",
      "2017-01-03 18:26:26,129 - 9200\n",
      "2017-01-03 18:26:26,189 - 9300\n",
      "2017-01-03 18:26:26,248 - 9400\n",
      "2017-01-03 18:26:26,303 - 9500\n",
      "2017-01-03 18:26:26,362 - 9600\n",
      "2017-01-03 18:26:26,422 - 9700\n",
      "2017-01-03 18:26:26,486 - 9800\n",
      "2017-01-03 18:26:26,557 - 9900\n",
      "2017-01-03 18:26:26,558 - Duration: 0:00:06.395162\n"
     ]
    }
   ],
   "source": [
    "batch_size = 100;\n",
    "start = datetime.now()\n",
    "insert(ConsistencyLevel.QUORUM)\n",
    "logger.info('Duration: {}'.format(datetime.now() - start))"
   ]
  }
 ],
 "metadata": {
  "kernelspec": {
   "display_name": "Python 3",
   "language": "python",
   "name": "python3"
  },
  "language_info": {
   "codemirror_mode": {
    "name": "ipython",
    "version": 3
   },
   "file_extension": ".py",
   "mimetype": "text/x-python",
   "name": "python",
   "nbconvert_exporter": "python",
   "pygments_lexer": "ipython3",
   "version": "3.5.2"
  }
 },
 "nbformat": 4,
 "nbformat_minor": 2
}
